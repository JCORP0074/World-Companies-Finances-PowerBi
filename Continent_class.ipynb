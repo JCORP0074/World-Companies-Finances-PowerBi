{
 "cells": [
  {
   "cell_type": "code",
   "execution_count": 1,
   "id": "1667c658-de10-47f7-ada8-9c33a47fa66d",
   "metadata": {},
   "outputs": [
    {
     "name": "stdout",
     "output_type": "stream",
     "text": [
      "Requirement already satisfied: country_converter in c:\\users\\desktop-pc\\downloads\\new folder\\lib\\site-packages (1.3.1)\n",
      "Requirement already satisfied: pandas>=1.0 in c:\\users\\desktop-pc\\downloads\\new folder\\lib\\site-packages (from country_converter) (2.2.3)\n",
      "Requirement already satisfied: numpy>=1.26.0 in c:\\users\\desktop-pc\\downloads\\new folder\\lib\\site-packages (from pandas>=1.0->country_converter) (2.1.3)\n",
      "Requirement already satisfied: python-dateutil>=2.8.2 in c:\\users\\desktop-pc\\downloads\\new folder\\lib\\site-packages (from pandas>=1.0->country_converter) (2.9.0.post0)\n",
      "Requirement already satisfied: pytz>=2020.1 in c:\\users\\desktop-pc\\downloads\\new folder\\lib\\site-packages (from pandas>=1.0->country_converter) (2024.1)\n",
      "Requirement already satisfied: tzdata>=2022.7 in c:\\users\\desktop-pc\\downloads\\new folder\\lib\\site-packages (from pandas>=1.0->country_converter) (2025.2)\n",
      "Requirement already satisfied: six>=1.5 in c:\\users\\desktop-pc\\downloads\\new folder\\lib\\site-packages (from python-dateutil>=2.8.2->pandas>=1.0->country_converter) (1.17.0)\n"
     ]
    }
   ],
   "source": [
    "!pip install country_converter"
   ]
  },
  {
   "cell_type": "code",
   "execution_count": 2,
   "id": "eba2a385-389b-4348-9761-82121c426613",
   "metadata": {},
   "outputs": [],
   "source": [
    "import pandas as pd \n",
    "from sqlalchemy import create_engine\n",
    "import country_converter as coco"
   ]
  },
  {
   "cell_type": "code",
   "execution_count": 3,
   "id": "6dbef11c-8f2c-49d1-b5e7-dcad5b52b773",
   "metadata": {},
   "outputs": [],
   "source": [
    "user = \"root\"\n",
    "password = \"Proverbs35\"\n",
    "host = \"localhost\"\n",
    "database= \"all_companies_joined_data\"\n",
    "\n",
    "engine = create_engine(f\"mysql+pymysql://{user}:{password}@{host}/{database}\")"
   ]
  },
  {
   "cell_type": "code",
   "execution_count": 4,
   "id": "d2315b47-cce1-49eb-a131-883b65669d8f",
   "metadata": {},
   "outputs": [],
   "source": [
    "continent_query = \"SELECT name, country from valid_comp_data\""
   ]
  },
  {
   "cell_type": "code",
   "execution_count": 5,
   "id": "9baf5242-63e3-4872-b38a-b81f80cfdcc9",
   "metadata": {},
   "outputs": [],
   "source": [
    "continent_df = pd.read_sql(continent_query, engine)"
   ]
  },
  {
   "cell_type": "code",
   "execution_count": 6,
   "id": "00fdd3d2-b060-4a84-8ae3-f8a1e404b908",
   "metadata": {},
   "outputs": [],
   "source": [
    "cc = coco.CountryConverter()"
   ]
  },
  {
   "cell_type": "code",
   "execution_count": 7,
   "id": "29d07071-a320-4ef5-b65e-3466d066d0d5",
   "metadata": {},
   "outputs": [],
   "source": [
    "continent_df[\"continent\"] = cc.convert(names=continent_df[\"country\"], to=\"continent\")"
   ]
  },
  {
   "cell_type": "code",
   "execution_count": 8,
   "id": "a9d5a870-77b3-43e5-bb5d-286bd4f83754",
   "metadata": {},
   "outputs": [
    {
     "data": {
      "text/html": [
       "<div>\n",
       "<style scoped>\n",
       "    .dataframe tbody tr th:only-of-type {\n",
       "        vertical-align: middle;\n",
       "    }\n",
       "\n",
       "    .dataframe tbody tr th {\n",
       "        vertical-align: top;\n",
       "    }\n",
       "\n",
       "    .dataframe thead th {\n",
       "        text-align: right;\n",
       "    }\n",
       "</style>\n",
       "<table border=\"1\" class=\"dataframe\">\n",
       "  <thead>\n",
       "    <tr style=\"text-align: right;\">\n",
       "      <th></th>\n",
       "      <th>name</th>\n",
       "      <th>country</th>\n",
       "      <th>continent</th>\n",
       "    </tr>\n",
       "  </thead>\n",
       "  <tbody>\n",
       "    <tr>\n",
       "      <th>0</th>\n",
       "      <td>(DIA) Distribuidora Internacional de Alimentación</td>\n",
       "      <td>Spain</td>\n",
       "      <td>Europe</td>\n",
       "    </tr>\n",
       "    <tr>\n",
       "      <th>1</th>\n",
       "      <td>1-800-PetMeds</td>\n",
       "      <td>United States</td>\n",
       "      <td>America</td>\n",
       "    </tr>\n",
       "    <tr>\n",
       "      <th>2</th>\n",
       "      <td>1&amp;1</td>\n",
       "      <td>Germany</td>\n",
       "      <td>Europe</td>\n",
       "    </tr>\n",
       "    <tr>\n",
       "      <th>3</th>\n",
       "      <td>11 bit studios</td>\n",
       "      <td>Poland</td>\n",
       "      <td>Europe</td>\n",
       "    </tr>\n",
       "    <tr>\n",
       "      <th>4</th>\n",
       "      <td>111, Inc.</td>\n",
       "      <td>China</td>\n",
       "      <td>Asia</td>\n",
       "    </tr>\n",
       "    <tr>\n",
       "      <th>...</th>\n",
       "      <td>...</td>\n",
       "      <td>...</td>\n",
       "      <td>...</td>\n",
       "    </tr>\n",
       "    <tr>\n",
       "      <th>5678</th>\n",
       "      <td>Zura Bio</td>\n",
       "      <td>United States</td>\n",
       "      <td>America</td>\n",
       "    </tr>\n",
       "    <tr>\n",
       "      <th>5679</th>\n",
       "      <td>Zurich Airport</td>\n",
       "      <td>Switzerland</td>\n",
       "      <td>Europe</td>\n",
       "    </tr>\n",
       "    <tr>\n",
       "      <th>5680</th>\n",
       "      <td>Zurich Insurance Group</td>\n",
       "      <td>Switzerland</td>\n",
       "      <td>Europe</td>\n",
       "    </tr>\n",
       "    <tr>\n",
       "      <th>5681</th>\n",
       "      <td>Zydus Lifesciences</td>\n",
       "      <td>India</td>\n",
       "      <td>Asia</td>\n",
       "    </tr>\n",
       "    <tr>\n",
       "      <th>5682</th>\n",
       "      <td>Zymeworks</td>\n",
       "      <td>Canada</td>\n",
       "      <td>America</td>\n",
       "    </tr>\n",
       "  </tbody>\n",
       "</table>\n",
       "<p>5683 rows × 3 columns</p>\n",
       "</div>"
      ],
      "text/plain": [
       "                                                   name        country  \\\n",
       "0     (DIA) Distribuidora Internacional de Alimentación          Spain   \n",
       "1                                         1-800-PetMeds  United States   \n",
       "2                                                   1&1        Germany   \n",
       "3                                        11 bit studios         Poland   \n",
       "4                                             111, Inc.          China   \n",
       "...                                                 ...            ...   \n",
       "5678                                           Zura Bio  United States   \n",
       "5679                                     Zurich Airport    Switzerland   \n",
       "5680                             Zurich Insurance Group    Switzerland   \n",
       "5681                                 Zydus Lifesciences          India   \n",
       "5682                                          Zymeworks         Canada   \n",
       "\n",
       "     continent  \n",
       "0       Europe  \n",
       "1      America  \n",
       "2       Europe  \n",
       "3       Europe  \n",
       "4         Asia  \n",
       "...        ...  \n",
       "5678   America  \n",
       "5679    Europe  \n",
       "5680    Europe  \n",
       "5681      Asia  \n",
       "5682   America  \n",
       "\n",
       "[5683 rows x 3 columns]"
      ]
     },
     "execution_count": 8,
     "metadata": {},
     "output_type": "execute_result"
    }
   ],
   "source": [
    "continent_df"
   ]
  },
  {
   "cell_type": "code",
   "execution_count": 9,
   "id": "ba727e36-1581-4258-bfab-79ec8d89ded0",
   "metadata": {},
   "outputs": [],
   "source": [
    "companies_continent_data = continent_df.to_csv(\"companies_continent_data.csv\", index=False)"
   ]
  },
  {
   "cell_type": "code",
   "execution_count": 10,
   "id": "e1a99da8-04d4-4948-832e-d8f4cedad5ca",
   "metadata": {},
   "outputs": [],
   "source": [
    "companies_continent_data = continent_df.to_sql(\"continent_data\",con=engine, if_exists=\"replace\", index=True)"
   ]
  },
  {
   "cell_type": "code",
   "execution_count": null,
   "id": "50bd81da-91ac-49a3-92ae-007910be1ab3",
   "metadata": {},
   "outputs": [],
   "source": []
  }
 ],
 "metadata": {
  "kernelspec": {
   "display_name": "Python 3 (ipykernel)",
   "language": "python",
   "name": "python3"
  },
  "language_info": {
   "codemirror_mode": {
    "name": "ipython",
    "version": 3
   },
   "file_extension": ".py",
   "mimetype": "text/x-python",
   "name": "python",
   "nbconvert_exporter": "python",
   "pygments_lexer": "ipython3",
   "version": "3.13.5"
  }
 },
 "nbformat": 4,
 "nbformat_minor": 5
}
