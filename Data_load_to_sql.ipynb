{
 "cells": [
  {
   "cell_type": "code",
   "execution_count": 1,
   "id": "7fd334c4-2861-49b3-9430-e3edc92e0ae2",
   "metadata": {},
   "outputs": [],
   "source": [
    "import pandas as pd \n",
    "import numpy as np \n",
    "import os \n",
    "from sqlalchemy import create_engine\n",
    "import glob\n"
   ]
  },
  {
   "cell_type": "code",
   "execution_count": 2,
   "id": "8b000a2d-ee01-4414-b0ac-d6181e869c85",
   "metadata": {},
   "outputs": [
    {
     "name": "stdout",
     "output_type": "stream",
     "text": [
      "Requirement already satisfied: pymysql in c:\\users\\desktop-pc\\downloads\\new folder\\lib\\site-packages (1.1.2)\n"
     ]
    }
   ],
   "source": [
    "!pip install pymysql"
   ]
  },
  {
   "cell_type": "code",
   "execution_count": 3,
   "id": "45afe04c-65bd-481e-88ac-6f899b9eba07",
   "metadata": {},
   "outputs": [],
   "source": [
    "user = \"root\"\n",
    "password = \"Proverbs35\"\n",
    "host=\"localhost\"\n",
    "database = \"raw_companies_data\"\n",
    "\n",
    "engine = create_engine(f\"mysql+pymysql://{user}:{password}@{host}/{database}\")\n",
    "\n",
    "csv_folder = \"../Companies CSVs/\""
   ]
  },
  {
   "cell_type": "code",
   "execution_count": 4,
   "id": "6ad1cff7-e658-4a64-b0c5-46f987038426",
   "metadata": {},
   "outputs": [
    {
     "name": "stdout",
     "output_type": "stream",
     "text": [
      "uploading Aircraft Manufacturer_data...\n",
      "uploading Airline_data...\n",
      "uploading Airport_data...\n",
      "uploading Alcoholic Beverage Sector_data...\n",
      "uploading Automachinery_data...\n",
      "uploading Chemical Industry_data...\n",
      "uploading Clothing and Garments_data...\n",
      "uploading companies_continent_data...\n"
     ]
    },
    {
     "name": "stderr",
     "output_type": "stream",
     "text": [
      "C:\\Users\\Desktop-PC\\AppData\\Local\\Temp\\ipykernel_6496\\1761026547.py:7: UserWarning: The provided table name 'Aircraft Manufacturer_data' is not found exactly as such in the database after writing the table, possibly due to case sensitivity issues. Consider using lower case table names.\n",
      "  df.to_sql(table_name,con=engine, if_exists=\"replace\",index=False)\n",
      "C:\\Users\\Desktop-PC\\AppData\\Local\\Temp\\ipykernel_6496\\1761026547.py:7: UserWarning: The provided table name 'Airline_data' is not found exactly as such in the database after writing the table, possibly due to case sensitivity issues. Consider using lower case table names.\n",
      "  df.to_sql(table_name,con=engine, if_exists=\"replace\",index=False)\n",
      "C:\\Users\\Desktop-PC\\AppData\\Local\\Temp\\ipykernel_6496\\1761026547.py:7: UserWarning: The provided table name 'Airport_data' is not found exactly as such in the database after writing the table, possibly due to case sensitivity issues. Consider using lower case table names.\n",
      "  df.to_sql(table_name,con=engine, if_exists=\"replace\",index=False)\n",
      "C:\\Users\\Desktop-PC\\AppData\\Local\\Temp\\ipykernel_6496\\1761026547.py:7: UserWarning: The provided table name 'Alcoholic Beverage Sector_data' is not found exactly as such in the database after writing the table, possibly due to case sensitivity issues. Consider using lower case table names.\n",
      "  df.to_sql(table_name,con=engine, if_exists=\"replace\",index=False)\n",
      "C:\\Users\\Desktop-PC\\AppData\\Local\\Temp\\ipykernel_6496\\1761026547.py:7: UserWarning: The provided table name 'Automachinery_data' is not found exactly as such in the database after writing the table, possibly due to case sensitivity issues. Consider using lower case table names.\n",
      "  df.to_sql(table_name,con=engine, if_exists=\"replace\",index=False)\n",
      "C:\\Users\\Desktop-PC\\AppData\\Local\\Temp\\ipykernel_6496\\1761026547.py:7: UserWarning: The provided table name 'Chemical Industry_data' is not found exactly as such in the database after writing the table, possibly due to case sensitivity issues. Consider using lower case table names.\n",
      "  df.to_sql(table_name,con=engine, if_exists=\"replace\",index=False)\n",
      "C:\\Users\\Desktop-PC\\AppData\\Local\\Temp\\ipykernel_6496\\1761026547.py:7: UserWarning: The provided table name 'Clothing and Garments_data' is not found exactly as such in the database after writing the table, possibly due to case sensitivity issues. Consider using lower case table names.\n",
      "  df.to_sql(table_name,con=engine, if_exists=\"replace\",index=False)\n"
     ]
    },
    {
     "name": "stdout",
     "output_type": "stream",
     "text": [
      "uploading Construction Industry_data...\n",
      "uploading Courier Services_data...\n",
      "uploading e-commerce_data...\n",
      "uploading Electricity Industry_data...\n",
      "uploading Food Service_data...\n",
      "uploading Healthcare_data...\n",
      "uploading Hotel_data...\n",
      "uploading Insurance_data...\n"
     ]
    },
    {
     "name": "stderr",
     "output_type": "stream",
     "text": [
      "C:\\Users\\Desktop-PC\\AppData\\Local\\Temp\\ipykernel_6496\\1761026547.py:7: UserWarning: The provided table name 'Construction Industry_data' is not found exactly as such in the database after writing the table, possibly due to case sensitivity issues. Consider using lower case table names.\n",
      "  df.to_sql(table_name,con=engine, if_exists=\"replace\",index=False)\n",
      "C:\\Users\\Desktop-PC\\AppData\\Local\\Temp\\ipykernel_6496\\1761026547.py:7: UserWarning: The provided table name 'Courier Services_data' is not found exactly as such in the database after writing the table, possibly due to case sensitivity issues. Consider using lower case table names.\n",
      "  df.to_sql(table_name,con=engine, if_exists=\"replace\",index=False)\n",
      "C:\\Users\\Desktop-PC\\AppData\\Local\\Temp\\ipykernel_6496\\1761026547.py:7: UserWarning: The provided table name 'Electricity Industry_data' is not found exactly as such in the database after writing the table, possibly due to case sensitivity issues. Consider using lower case table names.\n",
      "  df.to_sql(table_name,con=engine, if_exists=\"replace\",index=False)\n",
      "C:\\Users\\Desktop-PC\\AppData\\Local\\Temp\\ipykernel_6496\\1761026547.py:7: UserWarning: The provided table name 'Food Service_data' is not found exactly as such in the database after writing the table, possibly due to case sensitivity issues. Consider using lower case table names.\n",
      "  df.to_sql(table_name,con=engine, if_exists=\"replace\",index=False)\n",
      "C:\\Users\\Desktop-PC\\AppData\\Local\\Temp\\ipykernel_6496\\1761026547.py:7: UserWarning: The provided table name 'Healthcare_data' is not found exactly as such in the database after writing the table, possibly due to case sensitivity issues. Consider using lower case table names.\n",
      "  df.to_sql(table_name,con=engine, if_exists=\"replace\",index=False)\n",
      "C:\\Users\\Desktop-PC\\AppData\\Local\\Temp\\ipykernel_6496\\1761026547.py:7: UserWarning: The provided table name 'Hotel_data' is not found exactly as such in the database after writing the table, possibly due to case sensitivity issues. Consider using lower case table names.\n",
      "  df.to_sql(table_name,con=engine, if_exists=\"replace\",index=False)\n",
      "C:\\Users\\Desktop-PC\\AppData\\Local\\Temp\\ipykernel_6496\\1761026547.py:7: UserWarning: The provided table name 'Insurance_data' is not found exactly as such in the database after writing the table, possibly due to case sensitivity issues. Consider using lower case table names.\n",
      "  df.to_sql(table_name,con=engine, if_exists=\"replace\",index=False)\n",
      "C:\\Users\\Desktop-PC\\AppData\\Local\\Temp\\ipykernel_6496\\1761026547.py:7: UserWarning: The provided table name 'Media and Press_data' is not found exactly as such in the database after writing the table, possibly due to case sensitivity issues. Consider using lower case table names.\n",
      "  df.to_sql(table_name,con=engine, if_exists=\"replace\",index=False)\n"
     ]
    },
    {
     "name": "stdout",
     "output_type": "stream",
     "text": [
      "uploading Media and Press_data...\n",
      "uploading Mining Industry_data...\n",
      "uploading Non-Alcohol Beverage Sector_data...\n",
      "uploading Oil And Gas Industry_data...\n",
      "uploading Pharmaceutical_data...\n",
      "uploading Port Industry_data...\n",
      "uploading Professional Services_data...\n",
      "uploading Railway Industry_data...\n"
     ]
    },
    {
     "name": "stderr",
     "output_type": "stream",
     "text": [
      "C:\\Users\\Desktop-PC\\AppData\\Local\\Temp\\ipykernel_6496\\1761026547.py:7: UserWarning: The provided table name 'Mining Industry_data' is not found exactly as such in the database after writing the table, possibly due to case sensitivity issues. Consider using lower case table names.\n",
      "  df.to_sql(table_name,con=engine, if_exists=\"replace\",index=False)\n",
      "C:\\Users\\Desktop-PC\\AppData\\Local\\Temp\\ipykernel_6496\\1761026547.py:7: UserWarning: The provided table name 'Non-Alcohol Beverage Sector_data' is not found exactly as such in the database after writing the table, possibly due to case sensitivity issues. Consider using lower case table names.\n",
      "  df.to_sql(table_name,con=engine, if_exists=\"replace\",index=False)\n",
      "C:\\Users\\Desktop-PC\\AppData\\Local\\Temp\\ipykernel_6496\\1761026547.py:7: UserWarning: The provided table name 'Oil And Gas Industry_data' is not found exactly as such in the database after writing the table, possibly due to case sensitivity issues. Consider using lower case table names.\n",
      "  df.to_sql(table_name,con=engine, if_exists=\"replace\",index=False)\n",
      "C:\\Users\\Desktop-PC\\AppData\\Local\\Temp\\ipykernel_6496\\1761026547.py:7: UserWarning: The provided table name 'Pharmaceutical_data' is not found exactly as such in the database after writing the table, possibly due to case sensitivity issues. Consider using lower case table names.\n",
      "  df.to_sql(table_name,con=engine, if_exists=\"replace\",index=False)\n",
      "C:\\Users\\Desktop-PC\\AppData\\Local\\Temp\\ipykernel_6496\\1761026547.py:7: UserWarning: The provided table name 'Port Industry_data' is not found exactly as such in the database after writing the table, possibly due to case sensitivity issues. Consider using lower case table names.\n",
      "  df.to_sql(table_name,con=engine, if_exists=\"replace\",index=False)\n",
      "C:\\Users\\Desktop-PC\\AppData\\Local\\Temp\\ipykernel_6496\\1761026547.py:7: UserWarning: The provided table name 'Professional Services_data' is not found exactly as such in the database after writing the table, possibly due to case sensitivity issues. Consider using lower case table names.\n",
      "  df.to_sql(table_name,con=engine, if_exists=\"replace\",index=False)\n",
      "C:\\Users\\Desktop-PC\\AppData\\Local\\Temp\\ipykernel_6496\\1761026547.py:7: UserWarning: The provided table name 'Railway Industry_data' is not found exactly as such in the database after writing the table, possibly due to case sensitivity issues. Consider using lower case table names.\n",
      "  df.to_sql(table_name,con=engine, if_exists=\"replace\",index=False)\n"
     ]
    },
    {
     "name": "stdout",
     "output_type": "stream",
     "text": [
      "uploading Real Estate Industry_data...\n",
      "uploading Retail Industry_data...\n",
      "uploading Technology_data...\n",
      "uploading Telecommunications Industry_data...\n",
      "uploading Tobacco Industry_data...\n",
      "uploading Video Games Industry_data...\n",
      "All CSVs has been uploaded successfully\n"
     ]
    },
    {
     "name": "stderr",
     "output_type": "stream",
     "text": [
      "C:\\Users\\Desktop-PC\\AppData\\Local\\Temp\\ipykernel_6496\\1761026547.py:7: UserWarning: The provided table name 'Real Estate Industry_data' is not found exactly as such in the database after writing the table, possibly due to case sensitivity issues. Consider using lower case table names.\n",
      "  df.to_sql(table_name,con=engine, if_exists=\"replace\",index=False)\n",
      "C:\\Users\\Desktop-PC\\AppData\\Local\\Temp\\ipykernel_6496\\1761026547.py:7: UserWarning: The provided table name 'Retail Industry_data' is not found exactly as such in the database after writing the table, possibly due to case sensitivity issues. Consider using lower case table names.\n",
      "  df.to_sql(table_name,con=engine, if_exists=\"replace\",index=False)\n",
      "C:\\Users\\Desktop-PC\\AppData\\Local\\Temp\\ipykernel_6496\\1761026547.py:7: UserWarning: The provided table name 'Technology_data' is not found exactly as such in the database after writing the table, possibly due to case sensitivity issues. Consider using lower case table names.\n",
      "  df.to_sql(table_name,con=engine, if_exists=\"replace\",index=False)\n",
      "C:\\Users\\Desktop-PC\\AppData\\Local\\Temp\\ipykernel_6496\\1761026547.py:7: UserWarning: The provided table name 'Telecommunications Industry_data' is not found exactly as such in the database after writing the table, possibly due to case sensitivity issues. Consider using lower case table names.\n",
      "  df.to_sql(table_name,con=engine, if_exists=\"replace\",index=False)\n",
      "C:\\Users\\Desktop-PC\\AppData\\Local\\Temp\\ipykernel_6496\\1761026547.py:7: UserWarning: The provided table name 'Tobacco Industry_data' is not found exactly as such in the database after writing the table, possibly due to case sensitivity issues. Consider using lower case table names.\n",
      "  df.to_sql(table_name,con=engine, if_exists=\"replace\",index=False)\n",
      "C:\\Users\\Desktop-PC\\AppData\\Local\\Temp\\ipykernel_6496\\1761026547.py:7: UserWarning: The provided table name 'Video Games Industry_data' is not found exactly as such in the database after writing the table, possibly due to case sensitivity issues. Consider using lower case table names.\n",
      "  df.to_sql(table_name,con=engine, if_exists=\"replace\",index=False)\n"
     ]
    }
   ],
   "source": [
    "for file in glob.glob(os.path.join(csv_folder, \"*.csv\")):\n",
    "    df=pd.read_csv(file)\n",
    "\n",
    "    table_name = os.path.splitext(os.path.basename(file))[0]\n",
    "\n",
    "    print(f\"uploading {table_name}...\")\n",
    "    df.to_sql(table_name,con=engine, if_exists=\"replace\",index=False)\n",
    "\n",
    "print(\"All CSVs has been uploaded successfully\")"
   ]
  },
  {
   "cell_type": "code",
   "execution_count": null,
   "id": "04993bf4-7d64-44cd-8c27-c6a8e0ac46b0",
   "metadata": {},
   "outputs": [],
   "source": []
  }
 ],
 "metadata": {
  "kernelspec": {
   "display_name": "Python 3 (ipykernel)",
   "language": "python",
   "name": "python3"
  },
  "language_info": {
   "codemirror_mode": {
    "name": "ipython",
    "version": 3
   },
   "file_extension": ".py",
   "mimetype": "text/x-python",
   "name": "python",
   "nbconvert_exporter": "python",
   "pygments_lexer": "ipython3",
   "version": "3.13.5"
  }
 },
 "nbformat": 4,
 "nbformat_minor": 5
}
